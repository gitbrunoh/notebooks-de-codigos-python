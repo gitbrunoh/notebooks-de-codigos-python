{
 "cells": [
  {
   "cell_type": "markdown",
   "id": "81942247",
   "metadata": {},
   "source": [
    "## Código para analisar as chances de sucesso na sequência aleatória (Random-walk) proposta.\n",
    "Você acha que consegue subir até o 60º degrau de um prédio após 100 rodadas de lançamento do dado? As regras são: se sair 1 ou 2, você deve retornar 1 degrau. Se sair 3, 4 ou 5, avançar 1 degrau. Caso saia o número 6, um novo lançamento é feito e o número obtido será o número de degraus avançados.   "
   ]
  },
  {
   "cell_type": "code",
   "execution_count": 1,
   "id": "6e87bbef",
   "metadata": {},
   "outputs": [],
   "source": [
    "import numpy as np\n",
    "import matplotlib.pyplot as plt"
   ]
  },
  {
   "cell_type": "code",
   "execution_count": 17,
   "id": "e26b2485",
   "metadata": {},
   "outputs": [],
   "source": [
    "np.random.seed(123)"
   ]
  },
  {
   "cell_type": "code",
   "execution_count": 18,
   "id": "33842b3e",
   "metadata": {},
   "outputs": [],
   "source": [
    "all_walks = []"
   ]
  },
  {
   "cell_type": "markdown",
   "id": "7d3b7967",
   "metadata": {},
   "source": [
    "Para simular a nossa random-walk e ter simulações suficientes iremos realizar 500 repetições. "
   ]
  },
  {
   "cell_type": "code",
   "execution_count": 19,
   "id": "ad808428",
   "metadata": {},
   "outputs": [],
   "source": [
    "for i in range(500):\n",
    "    random_walk = [0]\n",
    "    for x in range(100):\n",
    "        step = random_walk[-1]\n",
    "        dice = np.random.randint(1,7)\n",
    "        if dice <= 2:\n",
    "            step = max(0, step - 1)\n",
    "        elif dice <= 5:\n",
    "            step = step + 1\n",
    "        else:\n",
    "            step = step + np.random.randint(1,7)\n",
    "        if np.random.rand() <= 0.001:\n",
    "            step = 0\n",
    "        random_walk.append(step)\n",
    "    all_walks.append(random_walk)"
   ]
  },
  {
   "cell_type": "markdown",
   "id": "8c55c96e",
   "metadata": {},
   "source": [
    "Em seguida, precisaremos criar e tranpor a array obtida a partir da lista all_walks:"
   ]
  },
  {
   "cell_type": "code",
   "execution_count": 20,
   "id": "dfce3e29",
   "metadata": {},
   "outputs": [],
   "source": [
    "np_aw_t = np.transpose(np.array(all_walks))"
   ]
  },
  {
   "cell_type": "markdown",
   "id": "32b24dd7",
   "metadata": {},
   "source": [
    "Agora, iremos selecionar a última linha de todas as walks, as quais têm o resultado final de cada experimento, a fim de visualizarmos a distribuição dos resultados e de calcularmos a probabilidade estimada."
   ]
  },
  {
   "cell_type": "code",
   "execution_count": 21,
   "id": "321590a2",
   "metadata": {},
   "outputs": [],
   "source": [
    "ends = np_aw_t[-1,:]"
   ]
  },
  {
   "cell_type": "markdown",
   "id": "69008040",
   "metadata": {},
   "source": [
    "Plotagem de Histograma com os valores dos ends."
   ]
  },
  {
   "cell_type": "code",
   "execution_count": 22,
   "id": "a1e30c37",
   "metadata": {},
   "outputs": [],
   "source": [
    "%matplotlib inline"
   ]
  },
  {
   "cell_type": "code",
   "execution_count": 23,
   "id": "2bb610db",
   "metadata": {
    "scrolled": false
   },
   "outputs": [
    {
     "data": {
      "image/png": "[encoded data removed]",
      "text/plain": [
       "<Figure size 432x288 with 1 Axes>"
      ]
     },
     "metadata": {
      "needs_background": "light"
     },
     "output_type": "display_data"
    }
   ],
   "source": [
    "plt.hist(ends)\n",
    "plt.show()"
   ]
  },
  {
   "cell_type": "markdown",
   "id": "840597b1",
   "metadata": {},
   "source": [
    "Quantos sucessos foram obtidos no rol das nossas 500 simulações:"
   ]
  },
  {
   "cell_type": "code",
   "execution_count": 36,
   "id": "bc5cabb7",
   "metadata": {
    "scrolled": true
   },
   "outputs": [
    {
     "data": {
      "text/plain": [
       "array([ 70,  94,  82,  66, 107,  72, 116,  65,  78,  87,  81,  75,  70,\n",
       "        77,  88,  74,  64,  63,  70,  93,  98,  70,  70,  72,  71,  78,\n",
       "        78,  79,  71,  83,  71,  63,  94,  72,  63,  74,  61,  61,  79,\n",
       "        91,  66,  70,  80,  89,  91,  61,  83,  71,  68,  74,  85,  68,\n",
       "        88,  64,  84, 114,  61,  65,  78,  63,  61,  90,  96,  83,  77,\n",
       "        80,  71,  87,  73,  85,  84,  76, 105,  98,  63, 112,  81, 101,\n",
       "        74,  77,  81,  97,  90,  66,  63,  91, 101,  81,  64,  95,  83,\n",
       "        99,  75,  75,  61,  97,  94,  76,  82,  86, 122, 110,  91,  94,\n",
       "       106,  74,  75,  93,  64,  76, 100,  66,  98,  94,  72,  85,  66,\n",
       "        69,  78,  81,  87,  75,  80,  97,  75,  67,  78,  87,  87,  80,\n",
       "        80, 108,  83,  76,  73,  75, 116, 106,  78,  76, 103, 101,  80,\n",
       "        73,  66,  93,  92,  63,  89,  72,  94,  79,  63,  88, 109,  88,\n",
       "        95,  74,  70,  80,  89,  77,  83,  72,  65,  87,  80,  67,  65,\n",
       "        70,  86, 104,  69,  76,  76,  64, 102,  66,  71,  73,  83,  75,\n",
       "        71,  84,  66,  79,  73,  76,  84,  73,  99,  69,  83,  86,  81,\n",
       "        77, 100,  87,  75,  80,  98,  64,  75,  77,  62,  98,  89,  66,\n",
       "        88, 108,  71, 116,  87,  63,  88,  77, 107,  67,  67,  71,  78,\n",
       "        64, 108,  93, 100,  65,  97,  74,  70,  79,  66,  82,  87,  71,\n",
       "        86,  68,  80,  61,  67,  69, 110,  95,  63, 117,  72,  71,  99,\n",
       "        72,  81,  69, 103,  89,  63,  61,  78,  65,  64,  84,  85,  69,\n",
       "        65,  77,  70,  89,  78,  69,  69,  81, 107,  70,  83,  90,  94,\n",
       "        63, 101,  82,  76,  84,  91,  79,  83,  94,  73,  71,  67,  95,\n",
       "        68,  97,  95,  72,  75,  78,  93,  87,  71,  74,  70,  92,  81,\n",
       "        90,  73,  66,  97,  76,  64, 100,  76,  94,  80,  63,  71,  86,\n",
       "        81,  95,  64,  69,  69,  87,  64,  93,  82,  89,  68,  82,  75,\n",
       "        74,  82, 101,  75,  89,  61,  68,  72,  70,  77,  83,  81,  85,\n",
       "        91,  73,  80,  70, 127, 110,  77,  82,  88,  98,  86,  67,  66,\n",
       "        72,  92,  75, 109,  61,  78,  77,  98,  62,  67,  68,  69,  65,\n",
       "        96,  67,  91,  95,  71,  86,  84,  73,  73,  67,  62,  69,  76,\n",
       "        78,  88,  80,  80,  91,  65])"
      ]
     },
     "execution_count": 36,
     "metadata": {},
     "output_type": "execute_result"
    }
   ],
   "source": [
    "ends[ends > 60]"
   ]
  },
  {
   "cell_type": "markdown",
   "id": "cb3925ab",
   "metadata": {},
   "source": [
    "Para calcular o número de elementos de uma Numpy Array podemos usar o método .size"
   ]
  },
  {
   "cell_type": "code",
   "execution_count": 37,
   "id": "a48461be",
   "metadata": {
    "scrolled": true
   },
   "outputs": [
    {
     "data": {
      "text/plain": [
       "383"
      ]
     },
     "execution_count": 37,
     "metadata": {},
     "output_type": "execute_result"
    }
   ],
   "source": [
    "ends[ends > 60].size"
   ]
  },
  {
   "cell_type": "markdown",
   "id": "8d3670a5",
   "metadata": {},
   "source": [
    "A probabilidade estimada obtida é a relação do número de sucessos pela quantidade total de walks."
   ]
  },
  {
   "cell_type": "code",
   "execution_count": 34,
   "id": "30456487",
   "metadata": {},
   "outputs": [
    {
     "data": {
      "text/plain": [
       "0.766"
      ]
     },
     "execution_count": 34,
     "metadata": {},
     "output_type": "execute_result"
    }
   ],
   "source": [
    "383/500"
   ]
  }
 ],
 "metadata": {
  "kernelspec": {
   "display_name": "Python 3",
   "language": "python",
   "name": "python3"
  },
  "language_info": {
   "codemirror_mode": {
    "name": "ipython",
    "version": 3
   },
   "file_extension": ".py",
   "mimetype": "text/x-python",
   "name": "python",
   "nbconvert_exporter": "python",
   "pygments_lexer": "ipython3",
   "version": "3.8.8"
  }
 },
 "nbformat": 4,
 "nbformat_minor": 5
}
